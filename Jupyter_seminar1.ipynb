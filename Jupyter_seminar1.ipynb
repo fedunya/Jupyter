{
  "nbformat": 4,
  "nbformat_minor": 0,
  "metadata": {
    "colab": {
      "provenance": [],
      "authorship_tag": "ABX9TyPWjMoQhHHO0+Qe1/syXgoN",
      "include_colab_link": true
    },
    "kernelspec": {
      "name": "python3",
      "display_name": "Python 3"
    },
    "language_info": {
      "name": "python"
    }
  },
  "cells": [
    {
      "cell_type": "markdown",
      "metadata": {
        "id": "view-in-github",
        "colab_type": "text"
      },
      "source": [
        "<a href=\"https://colab.research.google.com/github/fedunya/Jupyter/blob/main/Jupyter_seminar1.ipynb\" target=\"_parent\"><img src=\"https://colab.research.google.com/assets/colab-badge.svg\" alt=\"Open In Colab\"/></a>"
      ]
    },
    {
      "cell_type": "markdown",
      "source": [
        "##Домашнее задание 1<br>\n",
        "Оформляйте ноутбук, используя эти советы:\n",
        "* номер задачи - заголовок 2\n",
        "* номер подзадачи - заголовок 3\n",
        "* предоставленные наборы данных оформляйте, как код\n",
        "\n"
      ],
      "metadata": {
        "id": "ziIE9_6JxpUe"
      }
    },
    {
      "cell_type": "markdown",
      "source": [
        "## Домашнее задание 2  \n",
        "На складе лежат разные фрукты в разном количестве.  \n",
        "Нужно написать функцию, которая на вход принимает любое количество названий фруктов и их количество, а возвращает общее количество фруктов на складе."
      ],
      "metadata": {
        "id": "jCLvidExylBG"
      }
    },
    {
      "cell_type": "code",
      "source": [
        "def amount_fruit(**kwars):\n",
        "  result = sum(kwars.values())\n",
        "  return result\n",
        "total_fruit = amount_fruit(banana=5, mango=7, apple=8)\n",
        "total_fruit"
      ],
      "metadata": {
        "colab": {
          "base_uri": "https://localhost:8080/"
        },
        "id": "_PqHyMTRz0F9",
        "outputId": "0259e8fb-07e3-4a3d-bd20-7ac4e45ab1a9"
      },
      "execution_count": 1,
      "outputs": [
        {
          "output_type": "execute_result",
          "data": {
            "text/plain": [
              "20"
            ]
          },
          "metadata": {},
          "execution_count": 1
        }
      ]
    },
    {
      "cell_type": "markdown",
      "source": [
        "## Домашнее задание 3  \n",
        "Дан список с затратами на рекламу. Но в данных есть ошибки, некоторые затраты имеют отрицательную величину. Удалите такие значения из списка и посчитайте суммарные затраты"
      ],
      "metadata": {
        "id": "3boovFRS3I5Q"
      }
    },
    {
      "cell_type": "code",
      "source": [
        "expenses = [100, 125, -90, 345, 655, -1, 0, 200]"
      ],
      "metadata": {
        "id": "qdoHyU-23sjo"
      },
      "execution_count": 2,
      "outputs": []
    },
    {
      "cell_type": "markdown",
      "source": [
        "Используйте list comprehensions"
      ],
      "metadata": {
        "id": "1z-bav3f3zf-"
      }
    },
    {
      "cell_type": "code",
      "source": [
        "expenses_new = [i for i in expenses if i >= 0]\n",
        "print(expenses_new)\n",
        "total = sum(expenses_new)\n",
        "print('Суммарные затраты на рекламу ->', total)"
      ],
      "metadata": {
        "colab": {
          "base_uri": "https://localhost:8080/"
        },
        "id": "rSlaHkSI5S12",
        "outputId": "2a3ebbbe-cddf-46ff-8d2a-0c0af366a8fd"
      },
      "execution_count": 4,
      "outputs": [
        {
          "output_type": "stream",
          "name": "stdout",
          "text": [
            "[100, 125, 345, 655, 0, 200]\n",
            "Суммарные затраты на рекламу -> 1425\n"
          ]
        }
      ]
    },
    {
      "cell_type": "markdown",
      "source": [
        "## Домашнее задание 4  \n",
        "Даны два списка.  \n",
        "Дата покупки"
      ],
      "metadata": {
        "id": "ejDNZ2GK699f"
      }
    },
    {
      "cell_type": "code",
      "source": [
        "date = ['2021-09-14', '2021-12-15', '2021-09-08', '2021-12-05', '2021-10-09', '2021-09-30', '2021-12-22', '2021-11-29', '2021-12-24', '2021-11-26', \n",
        "        '2021-10-27', '2021-12-18', '2021-11-09', '2021-11-23', '2021-09-27', '2021-10-02', '2021-12-27', '2021-09-20', '2021-12-13', '2021-11-01', \n",
        "        '2021-11-09', '2021-12-06', '2021-12-08', '2021-10-09', '2021-10-31', '2021-09-30', '2021-11-09', '2021-12-13', '2021-10-26', '2021-12-09']"
      ],
      "metadata": {
        "id": "2yij2vZC7vWw"
      },
      "execution_count": 8,
      "outputs": []
    },
    {
      "cell_type": "markdown",
      "source": [
        "Суммы покупок по датам"
      ],
      "metadata": {
        "id": "jvg5X-mj8R_B"
      }
    },
    {
      "cell_type": "code",
      "source": [
        "purchases_cost = [1270, 8413, 9028, 3703, 5739, 4095, 295, 4944, 5723, 3701, \n",
        "                  4471, 651, 7037, 4274, 6275, 4988, 6930, 2971, 6592, 2004, \n",
        "                  2822, 519, 3406, 2732, 5015, 2008, 316, 6333, 5700, 2887]"
      ],
      "metadata": {
        "id": "6Ci6j2oT8X1m"
      },
      "execution_count": 6,
      "outputs": []
    },
    {
      "cell_type": "markdown",
      "source": [
        "### 4.1 Найдите, какая выручка у компании в ноябре  \n",
        "Используйте list comprehensions"
      ],
      "metadata": {
        "id": "EHOe6MBt9ITX"
      }
    },
    {
      "cell_type": "code",
      "source": [
        "november = [purchases_cost[i] for i in range(len(date)) if date[i][5:7] == '11']\n",
        "print(november)\n",
        "print('Выручка в ноябре ->', sum(november))"
      ],
      "metadata": {
        "id": "Px43cp259Qg_",
        "colab": {
          "base_uri": "https://localhost:8080/"
        },
        "outputId": "d69929af-a86f-4525-fb16-762b85e14e1e"
      },
      "execution_count": 10,
      "outputs": [
        {
          "output_type": "stream",
          "name": "stdout",
          "text": [
            "[4944, 3701, 7037, 4274, 2004, 2822, 316]\n",
            "Выручка в ноябре -> 25098\n"
          ]
        }
      ]
    },
    {
      "cell_type": "markdown",
      "source": [
        "### 4.2 Найдите выручку компании в зависимости от месяца  \n",
        "Для этого напишите функцию, которая на вход принимает список с датами и список с выручкой, а на выходе словарь, где ключи - это месяцы, а значения - это выручка.  \n",
        "Используйте аннотирование типов."
      ],
      "metadata": {
        "id": "4zuBrRFv9Ugn"
      }
    },
    {
      "cell_type": "code",
      "source": [
        "def profit_in_months(list1: list, list2: list) -> dict:\n",
        "  profit = {'01': 0, '02': 0, '03': 0, '04': 0, '05': 0, '06': 0, \n",
        "           '07': 0, '08': 0, '09': 0, '10': 0, '11': 0, '12': 0}\n",
        "  for i in range(len(list1)):\n",
        "    profit.update({list1[i][5:7]: profit[list1[i][5:7]] + list2[i]})\n",
        "  return profit\n",
        "print('Выручка компании по месяцам:', profit_in_months(date, purchases_cost), sep='\\n')"
      ],
      "metadata": {
        "id": "vgNjzsZo9i8f",
        "colab": {
          "base_uri": "https://localhost:8080/"
        },
        "outputId": "bc7ae637-1314-47bd-c040-5b22a4dafd66"
      },
      "execution_count": 18,
      "outputs": [
        {
          "output_type": "stream",
          "name": "stdout",
          "text": [
            "Выручка компании по месяцам:\n",
            "{'01': 0, '02': 0, '03': 0, '04': 0, '05': 0, '06': 0, '07': 0, '08': 0, '09': 25647, '10': 28645, '11': 25098, '12': 45452}\n"
          ]
        }
      ]
    }
  ]
}